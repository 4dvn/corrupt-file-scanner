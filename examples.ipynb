{
 "cells": [
  {
   "cell_type": "code",
   "execution_count": 25,
   "metadata": {},
   "outputs": [
    {
     "name": "stdout",
     "output_type": "stream",
     "text": [
      "The autoreload extension is already loaded. To reload it, use:\n",
      "  %reload_ext autoreload\n"
     ]
    },
    {
     "ename": "SystemExit",
     "evalue": "1",
     "output_type": "error",
     "traceback": [
      "\u001b[0;31m---------------------------------------------------------------------------\u001b[0m",
      "\u001b[0;31mSystemExit\u001b[0m                                Traceback (most recent call last)",
      "\u001b[0;32m<ipython-input-24-27b4e661fdeb>\u001b[0m in \u001b[0;36m<module>\u001b[0;34m()\u001b[0m\n\u001b[0;32m----> 1\u001b[0;31m \u001b[0mscan\u001b[0m\u001b[0;34m(\u001b[0m\u001b[0;34m[\u001b[0m\u001b[0;34m\"/Volumes/Externaldrive/Restored/CleanUp\"\u001b[0m\u001b[0;34m]\u001b[0m\u001b[0;34m)\u001b[0m\u001b[0;34m\u001b[0m\u001b[0m\n\u001b[0m",
      "\u001b[0;32m~/github/corrupt-file-scanner/scanners.py\u001b[0m in \u001b[0;36mscan\u001b[0;34m(dirpath, exclude_file, output_file)\u001b[0m\n\u001b[1;32m     54\u001b[0m         \u001b[0;32mif\u001b[0m \u001b[0;32mnot\u001b[0m \u001b[0mos\u001b[0m\u001b[0;34m.\u001b[0m\u001b[0mpath\u001b[0m\u001b[0;34m.\u001b[0m\u001b[0mexists\u001b[0m\u001b[0;34m(\u001b[0m\u001b[0mdirectory\u001b[0m\u001b[0;34m)\u001b[0m\u001b[0;34m:\u001b[0m\u001b[0;34m\u001b[0m\u001b[0m\n\u001b[1;32m     55\u001b[0m             \u001b[0mprint_f\u001b[0m\u001b[0;34m(\u001b[0m\u001b[0;34m'Not exists path: [{}]'\u001b[0m\u001b[0;34m.\u001b[0m\u001b[0mformat\u001b[0m\u001b[0;34m(\u001b[0m\u001b[0mdirectory\u001b[0m\u001b[0;34m)\u001b[0m\u001b[0;34m)\u001b[0m\u001b[0;34m\u001b[0m\u001b[0m\n\u001b[0;32m---> 56\u001b[0;31m             \u001b[0msys\u001b[0m\u001b[0;34m.\u001b[0m\u001b[0mexit\u001b[0m\u001b[0;34m(\u001b[0m\u001b[0;36m1\u001b[0m\u001b[0;34m)\u001b[0m\u001b[0;34m\u001b[0m\u001b[0m\n\u001b[0m\u001b[1;32m     57\u001b[0m         \u001b[0;32mif\u001b[0m \u001b[0mos\u001b[0m\u001b[0;34m.\u001b[0m\u001b[0mpath\u001b[0m\u001b[0;34m.\u001b[0m\u001b[0misfile\u001b[0m\u001b[0;34m(\u001b[0m\u001b[0mdirectory\u001b[0m\u001b[0;34m)\u001b[0m\u001b[0;34m:\u001b[0m\u001b[0;34m\u001b[0m\u001b[0m\n\u001b[1;32m     58\u001b[0m             \u001b[0mfiles\u001b[0m \u001b[0;34m=\u001b[0m \u001b[0;34m[\u001b[0m\u001b[0mdirectory\u001b[0m\u001b[0;34m]\u001b[0m\u001b[0;34m\u001b[0m\u001b[0m\n",
      "\u001b[0;31mSystemExit\u001b[0m: 1"
     ]
    }
   ],
   "source": [
    "%load_ext autoreload\n",
    "\n",
    "%autoreload 2\n",
    "\n",
    "%tb\n",
    "\n",
    "from scanners import scan"
   ]
  },
  {
   "cell_type": "code",
   "execution_count": null,
   "metadata": {},
   "outputs": [],
   "source": [
    "for f in dir_walker(\"/Volumes/Externaldrive/Restored\"):\n",
    "    check_excel(f)"
   ]
  },
  {
   "cell_type": "code",
   "execution_count": 27,
   "metadata": {},
   "outputs": [
    {
     "name": "stdout",
     "output_type": "stream",
     "text": [
      "+++ Scanning [/Volumes/Externaldrive/Restored/Admin-Archive/MailMirror PST/archive.older.2005.5.1.pst] ==> [NOT SUPPORTED]\n",
      "+++ Scanning [/Volumes/Externaldrive/Restored/Data/Academics/Academic Accreditation/Accreditation/2015 Accreditation/Accreditation Follow-up/TechnologyStandards2012.pdf] ==> [VALID]\n",
      "+++ Scanning [/Volumes/Externaldrive/Restored/Data/Academics/Academic Accreditation/Accreditation/2015 Accreditation/Aggregated School Surveys - Binder/0. Binder Cover - Aggregated School Surveys.pdf] ==> [VALID]\n",
      "+++ Scanning [/Volumes/Externaldrive/Restored/Data/Academics/Academic Accreditation/Accreditation/2015 Accreditation/Aggregated School Surveys - Binder/1. Stakeholder Feedback Analysis 2015.pdf] ==> [VALID]\n",
      "+++ Scanning [/Volumes/Externaldrive/Restored/Data/Academics/Academic Accreditation/Accreditation/2015 Accreditation/Aggregated School Surveys - Binder/10. Stakeholder Open Question Answers 2012-2013.pdf] ==> [VALID]\n",
      "+++ Scanning [/Volumes/Externaldrive/Restored/Data/Academics/Academic Accreditation/Accreditation/2015 Accreditation/Aggregated School Surveys - Binder/2. Survey Response Count Summaries 2014-2015.pdf] ==> [VALID]\n",
      "+++ Scanning [/Volumes/Externaldrive/Restored/Data/Academics/Academic Accreditation/Accreditation/2015 Accreditation/Aggregated School Surveys - Binder/3. Average Score Summary by Indicator 2014-2015.pdf] ==> [VALID]\n",
      "+++ Scanning [/Volumes/Externaldrive/Restored/Data/Academics/Academic Accreditation/Accreditation/2015 Accreditation/Aggregated School Surveys - Binder/4. Stakeholder Open Question Answers 2014-2015.pdf] ==> [VALID]\n",
      "+++ Scanning [/Volumes/Externaldrive/Restored/Data/Academics/Academic Accreditation/Accreditation/2015 Accreditation/Aggregated School Surveys - Binder/5. Survey Response Count Summaries 2013-2014.pdf] ==> [VALID]\n",
      "+++ Scanning [/Volumes/Externaldrive/Restored/Data/Academics/Academic Accreditation/Accreditation/2015 Accreditation/Aggregated School Surveys - Binder/6. Average Score Summary by Indicator 2013-2014.pdf] ==> [VALID]\n",
      "+++ Scanning [/Volumes/Externaldrive/Restored/Data/Academics/Academic Accreditation/Accreditation/2015 Accreditation/Aggregated School Surveys - Binder/7. Stakeholder Open Question Answers 2013-2014.pdf] ==> [VALID]\n",
      "+++ Scanning [/Volumes/Externaldrive/Restored/Data/Academics/Academic Accreditation/Accreditation/2015 Accreditation/Aggregated School Surveys - Binder/8. Survey Response Count Summaries 2012-2013.pdf] ==> [VALID]\n",
      "+++ Scanning [/Volumes/Externaldrive/Restored/Data/Academics/Academic Accreditation/Accreditation/2015 Accreditation/Aggregated School Surveys - Binder/9. Average Score Summary by Indicator 2012-2013.pdf] ==> [VALID]\n",
      "+++ Scanning [/Volumes/Externaldrive/Restored/Data/Academics/Academic Accreditation/Accreditation/2015 Accreditation/Aggregated School Surveys - Binder/Aggregatede School Surveys.pdf] ==> [VALID]\n",
      "+++ Scanning [/Volumes/Externaldrive/Restored/Data/Academics/Academic Accreditation/Accreditation/2015 Accreditation/Evidence Of Compliance - Binder/Standard 1 - Purpose & Directon/Indicator 1.1/1. School Purpose.pdf] ==> [VALID]\n",
      "+++ Scanning [/Volumes/Externaldrive/Restored/Data/Academics/Academic Accreditation/Accreditation/2015 Accreditation/Evidence Of Compliance - Binder/Standard 1 - Purpose & Directon/Indicator 1.1/2. Working Toward the School Purpose.pdf] ==> [VALID]\n",
      "+++ Scanning [/Volumes/Externaldrive/Restored/Data/Academics/Academic Accreditation/Accreditation/2015 Accreditation/Evidence Of Compliance - Binder/Standard 1 - Purpose & Directon/Indicator 1.1/3. Communication of Purpose Statement.pdf] ==> [VALID]\n",
      "+++ Scanning [/Volumes/Externaldrive/Restored/Data/Academics/Academic Accreditation/Accreditation/2015 Accreditation/Evidence Of Compliance - Binder/Standard 1 - Purpose & Directon/Indicator 1.1/4. Mission Statement (CHYCC).pdf] ==> [VALID]\n",
      "+++ Scanning [/Volumes/Externaldrive/Restored/Data/Academics/Academic Accreditation/Accreditation/2015 Accreditation/Evidence Of Compliance - Binder/Standard 1 - Purpose & Directon/Indicator 1.1/5. Statement of Purpose (CHYCC).pdf] ==> [VALID]\n",
      "+++ Scanning [/Volumes/Externaldrive/Restored/Data/Academics/Academic Accreditation/Accreditation/2015 Accreditation/Evidence Of Compliance - Binder/Standard 1 - Purpose & Directon/Indicator 1.1/6. Stakeholder Surveys Indicator 1.1.pdf] ==> [VALID]\n",
      "+++ Scanning [/Volumes/Externaldrive/Restored/Data/Academics/Academic Accreditation/Accreditation/2015 Accreditation/Evidence Of Compliance - Binder/Standard 1 - Purpose & Directon/Indicator 1.1/7. Aggregated School Surveys Indicator 1.1.pdf] ==> [VALID]\n",
      "+++ Scanning [/Volumes/Externaldrive/Restored/Data/Academics/Academic Accreditation/Accreditation/2015 Accreditation/Evidence Of Compliance - Binder/Standard 1 - Purpose & Directon/Indicator 1.1/Indicator 1.1.pdf] ==> [VALID]\n",
      "+++ Scanning [/Volumes/Externaldrive/Restored/Data/Academics/Academic Accreditation/Accreditation/2015 Accreditation/Evidence Of Compliance - Binder/Standard 1 - Purpose & Directon/Indicator 1.1/Thumbs.db] ==> [NOT SUPPORTED]\n",
      "+++ Scanning [/Volumes/Externaldrive/Restored/Data/Academics/Academic Accreditation/Accreditation/2015 Accreditation/Evidence Of Compliance - Binder/Standard 1 - Purpose & Directon/Indicator 1.2/1. School Purpose.pdf] ==> [VALID]\n",
      "+++ Scanning [/Volumes/Externaldrive/Restored/Data/Academics/Academic Accreditation/Accreditation/2015 Accreditation/Evidence Of Compliance - Binder/Standard 1 - Purpose & Directon/Indicator 1.2/2. Stakeholder Survey Results 1.2.pdf] ==> [VALID]\n",
      "+++ Scanning [/Volumes/Externaldrive/Restored/Data/Academics/Academic Accreditation/Accreditation/2015 Accreditation/Evidence Of Compliance - Binder/Standard 1 - Purpose & Directon/Indicator 1.2/3. Life Skills Classes, Assessments, Aggregated Data.pdf] ==> [VALID]\n",
      "+++ Scanning [/Volumes/Externaldrive/Restored/Data/Academics/Academic Accreditation/Accreditation/2015 Accreditation/Evidence Of Compliance - Binder/Standard 1 - Purpose & Directon/Indicator 1.2/4. Page 4 - School Profile 2014-2015.pdf] ==> [VALID]\n",
      "+++ Scanning [/Volumes/Externaldrive/Restored/Data/Academics/Academic Accreditation/Accreditation/2015 Accreditation/Evidence Of Compliance - Binder/Standard 1 - Purpose & Directon/Indicator 1.2/Indicator 1.2.pdf] ==> [VALID]\n",
      "+++ Scanning [/Volumes/Externaldrive/Restored/Data/Academics/Academic Accreditation/Accreditation/2015 Accreditation/Evidence Of Compliance - Binder/Standard 1 - Purpose & Directon/Indicator 1.2/Thumbs.db] ==> [NOT SUPPORTED]\n",
      "+++ Scanning [/Volumes/Externaldrive/Restored/Data/Academics/Academic Accreditation/Accreditation/2015 Accreditation/Evidence Of Compliance - Binder/Standard 1 - Purpose & Directon/Indicator 1.3/1.  Communicating to Staff and Stakeholders.pdf] ==> [VALID]\n",
      "+++ Scanning [/Volumes/Externaldrive/Restored/Data/Academics/Academic Accreditation/Accreditation/2015 Accreditation/Evidence Of Compliance - Binder/Standard 1 - Purpose & Directon/Indicator 1.3/2. Continuous Improvement, meeting notes.pdf] ==> [VALID]\n",
      "+++ Scanning [/Volumes/Externaldrive/Restored/Data/Academics/Academic Accreditation/Accreditation/2015 Accreditation/Evidence Of Compliance - Binder/Standard 1 - Purpose & Directon/Indicator 1.3/3. Collecting & Aggregating Parent Feedback.pdf] ==> [VALID]\n",
      "+++ Scanning [/Volumes/Externaldrive/Restored/Data/Academics/Academic Accreditation/Accreditation/2015 Accreditation/Evidence Of Compliance - Binder/Standard 1 - Purpose & Directon/Indicator 1.3/4. Sharing Student Progress.pdf] ==> [VALID]\n",
      "+++ Scanning [/Volumes/Externaldrive/Restored/Data/Academics/Academic Accreditation/Accreditation/2015 Accreditation/Evidence Of Compliance - Binder/Standard 1 - Purpose & Directon/Indicator 1.3/5. School Improvement Plans & Progress.pdf] ==> [VALID]\n",
      "+++ Scanning [/Volumes/Externaldrive/Restored/Data/Academics/Academic Accreditation/Accreditation/2015 Accreditation/Evidence Of Compliance - Binder/Standard 1 - Purpose & Directon/Indicator 1.3/6. Aggregated School Surveys Indicators.pdf] ==> [VALID]\n"
     ]
    },
    {
     "name": "stdout",
     "output_type": "stream",
     "text": [
      "+++ Scanning [/Volumes/Externaldrive/Restored/Data/Academics/Academic Accreditation/Accreditation/2015 Accreditation/Evidence Of Compliance - Binder/Standard 1 - Purpose & Directon/Indicator 1.3/7. School Profile 2014-2015.pdf] ==> [VALID]\n",
      "+++ Scanning [/Volumes/Externaldrive/Restored/Data/Academics/Academic Accreditation/Accreditation/2015 Accreditation/Evidence Of Compliance - Binder/Standard 1 - Purpose & Directon/Indicator 1.3/Indicator 1.3.pdf] ==> [VALID]\n",
      "+++ Scanning [/Volumes/Externaldrive/Restored/Data/Academics/Academic Accreditation/Accreditation/2015 Accreditation/Evidence Of Compliance - Binder/Standard 1 - Purpose & Directon/Standard 1.pdf] ==> [VALID]\n",
      "+++ Scanning [/Volumes/Externaldrive/Restored/Data/Academics/Academic Accreditation/Accreditation/2015 Accreditation/Evidence Of Compliance - Binder/Standard 1 - Purpose & Directon/Thumbs.db] ==> [NOT SUPPORTED]\n",
      "+++ Scanning [/Volumes/Externaldrive/Restored/Data/Academics/Academic Accreditation/Accreditation/2015 Accreditation/Evidence Of Compliance - Binder/Standard 2 - Governance & Leadership/Indicator 2.1/1. Reference Titles - AdvancEd vs CH.pdf] ==> [VALID]\n",
      "+++ Scanning [/Volumes/Externaldrive/Restored/Data/Academics/Academic Accreditation/Accreditation/2015 Accreditation/Evidence Of Compliance - Binder/Standard 2 - Governance & Leadership/Indicator 2.1/2. Academic Department Manual.pdf] ==> [VALID]\n",
      "+++ Scanning [/Volumes/Externaldrive/Restored/Data/Academics/Academic Accreditation/Accreditation/2015 Accreditation/Evidence Of Compliance - Binder/Standard 2 - Governance & Leadership/Indicator 2.1/3. Employee Handbook 2008.pdf] ==> [VALID]\n",
      "+++ Scanning [/Volumes/Externaldrive/Restored/Data/Academics/Academic Accreditation/Accreditation/2015 Accreditation/Evidence Of Compliance - Binder/Standard 2 - Governance & Leadership/Indicator 2.1/4. Student Handbook 3-2015.pdf] ==> [VALID]\n",
      "+++ Scanning [/Volumes/Externaldrive/Restored/Data/Academics/Academic Accreditation/Accreditation/2015 Accreditation/Evidence Of Compliance - Binder/Standard 2 - Governance & Leadership/Indicator 2.1/5. Care, Treatment & Services Education Policies.pdf] ==> [VALID]\n",
      "+++ Scanning [/Volumes/Externaldrive/Restored/Data/Academics/Academic Accreditation/Accreditation/2015 Accreditation/Evidence Of Compliance - Binder/Standard 2 - Governance & Leadership/Indicator 2.1/6. Aggregated School Surveys-Indicator 2.1.pdf] ==> [VALID]\n",
      "+++ Scanning [/Volumes/Externaldrive/Restored/Data/Academics/Academic Accreditation/Accreditation/2015 Accreditation/Evidence Of Compliance - Binder/Standard 2 - Governance & Leadership/Indicator 2.1/Indicator 2.1.pdf] ==> [VALID]\n",
      "+++ Scanning [/Volumes/Externaldrive/Restored/Data/Academics/Academic Accreditation/Accreditation/2015 Accreditation/Evidence Of Compliance - Binder/Standard 2 - Governance & Leadership/Indicator 2.1/Thumbs.db] ==> [NOT SUPPORTED]\n",
      "+++ Scanning [/Volumes/Externaldrive/Restored/Data/Academics/Academic Accreditation/Accreditation/2015 Accreditation/Evidence Of Compliance - Binder/Standard 2 - Governance & Leadership/Indicator 2.2/1. Ethics, Responsibilities,Conflict of Interest, Annual Training and Documents.pdf] ==> [VALID]\n",
      "+++ Scanning [/Volumes/Externaldrive/Restored/Data/Academics/Academic Accreditation/Accreditation/2015 Accreditation/Evidence Of Compliance - Binder/Standard 2 - Governance & Leadership/Indicator 2.2/2.  In-Service Schedules 2014 & 2015.pdf] ==> [VALID]\n",
      "+++ Scanning [/Volumes/Externaldrive/Restored/Data/Academics/Academic Accreditation/Accreditation/2015 Accreditation/Evidence Of Compliance - Binder/Standard 2 - Governance & Leadership/Indicator 2.2/3. Training Tracking.pdf] ==> [VALID]\n",
      "+++ Scanning [/Volumes/Externaldrive/Restored/Data/Academics/Academic Accreditation/Accreditation/2015 Accreditation/Evidence Of Compliance - Binder/Standard 2 - Governance & Leadership/Indicator 2.2/4. Leadership Standards-Conflict & Ethics.pdf] ==> [VALID]\n",
      "+++ Scanning [/Volumes/Externaldrive/Restored/Data/Academics/Academic Accreditation/Accreditation/2015 Accreditation/Evidence Of Compliance - Binder/Standard 2 - Governance & Leadership/Indicator 2.2/5. Residential Treatment License.pdf] ==> [VALID]\n",
      "+++ Scanning [/Volumes/Externaldrive/Restored/Data/Academics/Academic Accreditation/Accreditation/2015 Accreditation/Evidence Of Compliance - Binder/Standard 2 - Governance & Leadership/Indicator 2.2/6. JCAHO Certificate 2014-2017.pdf] ==> [VALID]\n",
      "+++ Scanning [/Volumes/Externaldrive/Restored/Data/Academics/Academic Accreditation/Accreditation/2015 Accreditation/Evidence Of Compliance - Binder/Standard 2 - Governance & Leadership/Indicator 2.2/7. City of St  George Business License 2015.pdf] ==> [VALID]\n",
      "+++ Scanning [/Volumes/Externaldrive/Restored/Data/Academics/Academic Accreditation/Accreditation/2015 Accreditation/Evidence Of Compliance - Binder/Standard 2 - Governance & Leadership/Indicator 2.2/8. Aggregated School Surveys-Indicator 2.2.pdf] ==> [VALID]\n",
      "+++ Scanning [/Volumes/Externaldrive/Restored/Data/Academics/Academic Accreditation/Accreditation/2015 Accreditation/Evidence Of Compliance - Binder/Standard 2 - Governance & Leadership/Indicator 2.2/Indicator 2.2.pdf] ==> [VALID]\n",
      "+++ Scanning [/Volumes/Externaldrive/Restored/Data/Academics/Academic Accreditation/Accreditation/2015 Accreditation/Evidence Of Compliance - Binder/Standard 2 - Governance & Leadership/Indicator 2.3/1. Roles of School Leadership.pdf] ==> [VALID]\n",
      "+++ Scanning [/Volumes/Externaldrive/Restored/Data/Academics/Academic Accreditation/Accreditation/2015 Accreditation/Evidence Of Compliance - Binder/Standard 2 - Governance & Leadership/Indicator 2.3/2. Indicator Results 2.3.pdf] ==> [VALID]\n",
      "+++ Scanning [/Volumes/Externaldrive/Restored/Data/Academics/Academic Accreditation/Accreditation/2015 Accreditation/Evidence Of Compliance - Binder/Standard 2 - Governance & Leadership/Indicator 2.3/3. Stakeholder Feedback 2014.pdf] ==> [VALID]\n",
      "+++ Scanning [/Volumes/Externaldrive/Restored/Data/Academics/Academic Accreditation/Accreditation/2015 Accreditation/Evidence Of Compliance - Binder/Standard 2 - Governance & Leadership/Indicator 2.3/Indicator 2.3.pdf] ==> [VALID]\n",
      "+++ Scanning [/Volumes/Externaldrive/Restored/Data/Academics/Academic Accreditation/Accreditation/2015 Accreditation/Evidence Of Compliance - Binder/Standard 2 - Governance & Leadership/Indicator 2.4/1. Collaboration to Achieve School Purpose.pdf] ==> [VALID]\n",
      "+++ Scanning [/Volumes/Externaldrive/Restored/Data/Academics/Academic Accreditation/Accreditation/2015 Accreditation/Evidence Of Compliance - Binder/Standard 2 - Governance & Leadership/Indicator 2.4/2.  Acquiring New Talents.pdf] ==> [VALID]\n",
      "+++ Scanning [/Volumes/Externaldrive/Restored/Data/Academics/Academic Accreditation/Accreditation/2015 Accreditation/Evidence Of Compliance - Binder/Standard 2 - Governance & Leadership/Indicator 2.4/3a. Advanced Teaching Program SIP.pdf] ==> [VALID]\n",
      "+++ Scanning [/Volumes/Externaldrive/Restored/Data/Academics/Academic Accreditation/Accreditation/2015 Accreditation/Evidence Of Compliance - Binder/Standard 2 - Governance & Leadership/Indicator 2.4/3b. Technology - SIP.pdf] ==> [VALID]\n",
      "+++ Scanning [/Volumes/Externaldrive/Restored/Data/Academics/Academic Accreditation/Accreditation/2015 Accreditation/Evidence Of Compliance - Binder/Standard 2 - Governance & Leadership/Indicator 2.4/4. Aggregated School Surveys-Indicator 2.4.pdf] ==> [VALID]\n",
      "+++ Scanning [/Volumes/Externaldrive/Restored/Data/Academics/Academic Accreditation/Accreditation/2015 Accreditation/Evidence Of Compliance - Binder/Standard 2 - Governance & Leadership/Indicator 2.4/Indicator 2.4.pdf] ==> [VALID]\n",
      "+++ Scanning [/Volumes/Externaldrive/Restored/Data/Academics/Academic Accreditation/Accreditation/2015 Accreditation/Evidence Of Compliance - Binder/Standard 2 - Governance & Leadership/Indicator 2.5/1. Aggregated School Surveys-Indicator 2.5.pdf] ==> [VALID]\n",
      "+++ Scanning [/Volumes/Externaldrive/Restored/Data/Academics/Academic Accreditation/Accreditation/2015 Accreditation/Evidence Of Compliance - Binder/Standard 2 - Governance & Leadership/Indicator 2.5/2.  Parent Guardian Feedback.pdf] ==> [VALID]\n"
     ]
    },
    {
     "name": "stdout",
     "output_type": "stream",
     "text": [
      "+++ Scanning [/Volumes/Externaldrive/Restored/Data/Academics/Academic Accreditation/Accreditation/2015 Accreditation/Evidence Of Compliance - Binder/Standard 2 - Governance & Leadership/Indicator 2.5/3.  Communicating and Engaging.pdf] ==> [VALID]\n",
      "+++ Scanning [/Volumes/Externaldrive/Restored/Data/Academics/Academic Accreditation/Accreditation/2015 Accreditation/Evidence Of Compliance - Binder/Standard 2 - Governance & Leadership/Indicator 2.5/Indicator 2.5.pdf] ==> [VALID]\n",
      "+++ Scanning [/Volumes/Externaldrive/Restored/Data/Academics/Academic Accreditation/Accreditation/2015 Accreditation/Evidence Of Compliance - Binder/Standard 2 - Governance & Leadership/Indicator 2.6/1. Supervision and Evaluation.pdf] ==> [VALID]\n",
      "+++ Scanning [/Volumes/Externaldrive/Restored/Data/Academics/Academic Accreditation/Accreditation/2015 Accreditation/Evidence Of Compliance - Binder/Standard 2 - Governance & Leadership/Indicator 2.6/2. Professional Development Allowance.pdf] ==> [VALID]\n",
      "+++ Scanning [/Volumes/Externaldrive/Restored/Data/Academics/Academic Accreditation/Accreditation/2015 Accreditation/Evidence Of Compliance - Binder/Standard 2 - Governance & Leadership/Indicator 2.6/3.  Governing Body Policy.pdf] ==> [VALID]\n",
      "+++ Scanning [/Volumes/Externaldrive/Restored/Data/Academics/Academic Accreditation/Accreditation/2015 Accreditation/Evidence Of Compliance - Binder/Standard 2 - Governance & Leadership/Indicator 2.6/4. Aggregated School Surveys-Indicator 2.6.pdf] ==> [VALID]\n",
      "+++ Scanning [/Volumes/Externaldrive/Restored/Data/Academics/Academic Accreditation/Accreditation/2015 Accreditation/Evidence Of Compliance - Binder/Standard 2 - Governance & Leadership/Indicator 2.6/Indicator 2.6.pdf] ==> [VALID]\n",
      "+++ Scanning [/Volumes/Externaldrive/Restored/Data/Academics/Academic Accreditation/Accreditation/2015 Accreditation/Evidence Of Compliance - Binder/Standard 2 - Governance & Leadership/Standard 2.pdf] ==> [VALID]\n",
      "+++ Scanning [/Volumes/Externaldrive/Restored/Data/Academics/Academic Accreditation/Accreditation/2015 Accreditation/Evidence Of Compliance - Binder/Standard 2 - Governance & Leadership/Thumbs.db] ==> [NOT SUPPORTED]\n",
      "+++ Scanning [/Volumes/Externaldrive/Restored/Data/Academics/Academic Accreditation/Accreditation/2015 Accreditation/Evidence Of Compliance - Binder/Standard 3 - Teaching & Assessing/Indicator 3.1/1. Course Descriptions 2015-2016.pdf] ==> [VALID]\n",
      "+++ Scanning [/Volumes/Externaldrive/Restored/Data/Academics/Academic Accreditation/Accreditation/2015 Accreditation/Evidence Of Compliance - Binder/Standard 3 - Teaching & Assessing/Indicator 3.1/2.  Accommodations and Modifications for SPED Students.pdf] ==> [VALID]\n",
      "+++ Scanning [/Volumes/Externaldrive/Restored/Data/Academics/Academic Accreditation/Accreditation/2015 Accreditation/Evidence Of Compliance - Binder/Standard 3 - Teaching & Assessing/Indicator 3.1/3. Academic Lesson Plans & Media Forms.pdf] ==> [VALID]\n",
      "+++ Scanning [/Volumes/Externaldrive/Restored/Data/Academics/Academic Accreditation/Accreditation/2015 Accreditation/Evidence Of Compliance - Binder/Standard 3 - Teaching & Assessing/Indicator 3.1/4. Listening and Speaking Plan.pdf] ==> [VALID]\n",
      "+++ Scanning [/Volumes/Externaldrive/Restored/Data/Academics/Academic Accreditation/Accreditation/2015 Accreditation/Evidence Of Compliance - Binder/Standard 3 - Teaching & Assessing/Indicator 3.1/5. Peer Tutoring - Challenging Learning Experience.pdf] ==> [VALID]\n",
      "+++ Scanning [/Volumes/Externaldrive/Restored/Data/Academics/Academic Accreditation/Accreditation/2015 Accreditation/Evidence Of Compliance - Binder/Standard 3 - Teaching & Assessing/Indicator 3.1/6. Post Discharge Academic Endeavors.pdf] ==> [VALID]\n",
      "+++ Scanning [/Volumes/Externaldrive/Restored/Data/Academics/Academic Accreditation/Accreditation/2015 Accreditation/Evidence Of Compliance - Binder/Standard 3 - Teaching & Assessing/Indicator 3.1/7. Course Guides & Student Work.pdf] ==> [VALID]\n",
      "+++ Scanning [/Volumes/Externaldrive/Restored/Data/Academics/Academic Accreditation/Accreditation/2015 Accreditation/Evidence Of Compliance - Binder/Standard 3 - Teaching & Assessing/Indicator 3.1/8. Aggregated School Surveys-Indicator 3.1.pdf] ==> [VALID]\n",
      "+++ Scanning [/Volumes/Externaldrive/Restored/Data/Academics/Academic Accreditation/Accreditation/2015 Accreditation/Evidence Of Compliance - Binder/Standard 3 - Teaching & Assessing/Indicator 3.1/Indicator 3.1.pdf] ==> [VALID]\n",
      "+++ Scanning [/Volumes/Externaldrive/Restored/Data/Academics/Academic Accreditation/Accreditation/2015 Accreditation/Evidence Of Compliance - Binder/Standard 3 - Teaching & Assessing/Indicator 3.10/1. Grading Responsibility.pdf] ==> [VALID]\n",
      "+++ Scanning [/Volumes/Externaldrive/Restored/Data/Academics/Academic Accreditation/Accreditation/2015 Accreditation/Evidence Of Compliance - Binder/Standard 3 - Teaching & Assessing/Indicator 3.10/2. Sample Report Cards.pdf] ==> [VALID]\n",
      "+++ Scanning [/Volumes/Externaldrive/Restored/Data/Academics/Academic Accreditation/Accreditation/2015 Accreditation/Evidence Of Compliance - Binder/Standard 3 - Teaching & Assessing/Indicator 3.10/3. Sample Communication about grading-reporting.pdf] ==> [VALID]\n",
      "+++ Scanning [/Volumes/Externaldrive/Restored/Data/Academics/Academic Accreditation/Accreditation/2015 Accreditation/Evidence Of Compliance - Binder/Standard 3 - Teaching & Assessing/Indicator 3.10/4. Aggregated School Surveys-Indicator 3.10.pdf] ==> [VALID]\n",
      "+++ Scanning [/Volumes/Externaldrive/Restored/Data/Academics/Academic Accreditation/Accreditation/2015 Accreditation/Evidence Of Compliance - Binder/Standard 3 - Teaching & Assessing/Indicator 3.10/Indicator 3.10.pdf] ==> [VALID]\n",
      "+++ Scanning [/Volumes/Externaldrive/Restored/Data/Academics/Academic Accreditation/Accreditation/2015 Accreditation/Evidence Of Compliance - Binder/Standard 3 - Teaching & Assessing/Indicator 3.11/1. In-Service Schedule.pdf] ==> [VALID]\n",
      "+++ Scanning [/Volumes/Externaldrive/Restored/Data/Academics/Academic Accreditation/Accreditation/2015 Accreditation/Evidence Of Compliance - Binder/Standard 3 - Teaching & Assessing/Indicator 3.11/2. Training Tracking.pdf] ==> [VALID]\n",
      "+++ Scanning [/Volumes/Externaldrive/Restored/Data/Academics/Academic Accreditation/Accreditation/2015 Accreditation/Evidence Of Compliance - Binder/Standard 3 - Teaching & Assessing/Indicator 3.11/3. Teacher Development Presentations.pdf] ==> [VALID]\n",
      "+++ Scanning [/Volumes/Externaldrive/Restored/Data/Academics/Academic Accreditation/Accreditation/2015 Accreditation/Evidence Of Compliance - Binder/Standard 3 - Teaching & Assessing/Indicator 3.11/4. Aggregated School Surveys-Indicator 3.11.pdf] ==> [VALID]\n",
      "+++ Scanning [/Volumes/Externaldrive/Restored/Data/Academics/Academic Accreditation/Accreditation/2015 Accreditation/Evidence Of Compliance - Binder/Standard 3 - Teaching & Assessing/Indicator 3.11/Indicator 3.11.pdf] ==> [VALID]\n",
      "+++ Scanning [/Volumes/Externaldrive/Restored/Data/Academics/Academic Accreditation/Accreditation/2015 Accreditation/Evidence Of Compliance - Binder/Standard 3 - Teaching & Assessing/Indicator 3.12/1. Learning Style Inventory.pdf] ==> [VALID]\n",
      "+++ Scanning [/Volumes/Externaldrive/Restored/Data/Academics/Academic Accreditation/Accreditation/2015 Accreditation/Evidence Of Compliance - Binder/Standard 3 - Teaching & Assessing/Indicator 3.12/2. Guidance, Planning and Support.pdf] ==> [VALID]\n",
      "+++ Scanning [/Volumes/Externaldrive/Restored/Data/Academics/Academic Accreditation/Accreditation/2015 Accreditation/Evidence Of Compliance - Binder/Standard 3 - Teaching & Assessing/Indicator 3.12/3.  Accommodations and Modifications for SPED Students.pdf] ==> [VALID]\n",
      "+++ Scanning [/Volumes/Externaldrive/Restored/Data/Academics/Academic Accreditation/Accreditation/2015 Accreditation/Evidence Of Compliance - Binder/Standard 3 - Teaching & Assessing/Indicator 3.12/4. Data from Multiple Assessments Used.pdf] ==> [VALID]\n",
      "+++ Scanning [/Volumes/Externaldrive/Restored/Data/Academics/Academic Accreditation/Accreditation/2015 Accreditation/Evidence Of Compliance - Binder/Standard 3 - Teaching & Assessing/Indicator 3.12/5. Aggregated School Surveys-Indicator 3.12.pdf] ==> [VALID]\n"
     ]
    },
    {
     "name": "stdout",
     "output_type": "stream",
     "text": [
      "+++ Scanning [/Volumes/Externaldrive/Restored/Data/Academics/Academic Accreditation/Accreditation/2015 Accreditation/Evidence Of Compliance - Binder/Standard 3 - Teaching & Assessing/Indicator 3.12/Indicator 3.12.pdf] ==> [VALID]\n",
      "+++ Scanning [/Volumes/Externaldrive/Restored/Data/Academics/Academic Accreditation/Accreditation/2015 Accreditation/Evidence Of Compliance - Binder/Standard 3 - Teaching & Assessing/Indicator 3.2/1. Curriculum Development Process-Example.pdf] ==> [VALID]\n",
      "+++ Scanning [/Volumes/Externaldrive/Restored/Data/Academics/Academic Accreditation/Accreditation/2015 Accreditation/Evidence Of Compliance - Binder/Standard 3 - Teaching & Assessing/Indicator 3.2/2. Process for new courses.pdf] ==> [VALID]\n",
      "+++ Scanning [/Volumes/Externaldrive/Restored/Data/Academics/Academic Accreditation/Accreditation/2015 Accreditation/Evidence Of Compliance - Binder/Standard 3 - Teaching & Assessing/Indicator 3.2/3. Data from Multiple Assessments Used.pdf] ==> [VALID]\n",
      "+++ Scanning [/Volumes/Externaldrive/Restored/Data/Academics/Academic Accreditation/Accreditation/2015 Accreditation/Evidence Of Compliance - Binder/Standard 3 - Teaching & Assessing/Indicator 3.2/4. Curriculum Development in Action.pdf] ==> [VALID]\n",
      "+++ Scanning [/Volumes/Externaldrive/Restored/Data/Academics/Academic Accreditation/Accreditation/2015 Accreditation/Evidence Of Compliance - Binder/Standard 3 - Teaching & Assessing/Indicator 3.2/5. Course Guide Examples.pdf] ==> [VALID]\n",
      "+++ Scanning [/Volumes/Externaldrive/Restored/Data/Academics/Academic Accreditation/Accreditation/2015 Accreditation/Evidence Of Compliance - Binder/Standard 3 - Teaching & Assessing/Indicator 3.2/6. Aggregated School Surveys-Indicator 3.2.pdf] ==> [VALID]\n",
      "+++ Scanning [/Volumes/Externaldrive/Restored/Data/Academics/Academic Accreditation/Accreditation/2015 Accreditation/Evidence Of Compliance - Binder/Standard 3 - Teaching & Assessing/Indicator 3.2/Indicator 3.2.pdf] ==> [VALID]\n",
      "+++ Scanning [/Volumes/Externaldrive/Restored/Data/Academics/Academic Accreditation/Accreditation/2015 Accreditation/Evidence Of Compliance - Binder/Standard 3 - Teaching & Assessing/Indicator 3.3/1.  Accommodations and Modifications for SPED Students.pdf] ==> [VALID]\n",
      "+++ Scanning [/Volumes/Externaldrive/Restored/Data/Academics/Academic Accreditation/Accreditation/2015 Accreditation/Evidence Of Compliance - Binder/Standard 3 - Teaching & Assessing/Indicator 3.3/2. Technology as a Learning Tool.pdf] ==> [VALID]\n",
      "+++ Scanning [/Volumes/Externaldrive/Restored/Data/Academics/Academic Accreditation/Accreditation/2015 Accreditation/Evidence Of Compliance - Binder/Standard 3 - Teaching & Assessing/Indicator 3.3/3. Student Work in Writing.pdf] ==> [VALID]\n",
      "+++ Scanning [/Volumes/Externaldrive/Restored/Data/Academics/Academic Accreditation/Accreditation/2015 Accreditation/Evidence Of Compliance - Binder/Standard 3 - Teaching & Assessing/Indicator 3.3/4. Additional Student Examples.pdf] ==> [VALID]\n",
      "+++ Scanning [/Volumes/Externaldrive/Restored/Data/Academics/Academic Accreditation/Accreditation/2015 Accreditation/Evidence Of Compliance - Binder/Standard 3 - Teaching & Assessing/Indicator 3.3/5. School Improvement Plans & Progress.pdf] ==> [VALID]\n",
      "+++ Scanning [/Volumes/Externaldrive/Restored/Data/Academics/Academic Accreditation/Accreditation/2015 Accreditation/Evidence Of Compliance - Binder/Standard 3 - Teaching & Assessing/Indicator 3.3/6. Aggregated School Surveys-Indicator 3.3.pdf] ==> [VALID]\n",
      "+++ Scanning [/Volumes/Externaldrive/Restored/Data/Academics/Academic Accreditation/Accreditation/2015 Accreditation/Evidence Of Compliance - Binder/Standard 3 - Teaching & Assessing/Indicator 3.3/Indicator 3.3.pdf] ==> [VALID]\n",
      "+++ Scanning [/Volumes/Externaldrive/Restored/Data/Academics/Academic Accreditation/Accreditation/2015 Accreditation/Evidence Of Compliance - Binder/Standard 3 - Teaching & Assessing/Indicator 3.4/1. Teacher Supervision.pdf] ==> [VALID]\n",
      "+++ Scanning [/Volumes/Externaldrive/Restored/Data/Academics/Academic Accreditation/Accreditation/2015 Accreditation/Evidence Of Compliance - Binder/Standard 3 - Teaching & Assessing/Indicator 3.4/2. Evaluation.pdf] ==> [VALID]\n",
      "+++ Scanning [/Volumes/Externaldrive/Restored/Data/Academics/Academic Accreditation/Accreditation/2015 Accreditation/Evidence Of Compliance - Binder/Standard 3 - Teaching & Assessing/Indicator 3.4/3. Recognition.pdf] ==> [VALID]\n",
      "+++ Scanning [/Volumes/Externaldrive/Restored/Data/Academics/Academic Accreditation/Accreditation/2015 Accreditation/Evidence Of Compliance - Binder/Standard 3 - Teaching & Assessing/Indicator 3.4/4. Peer Tutoring.pdf] ==> [VALID]\n",
      "+++ Scanning [/Volumes/Externaldrive/Restored/Data/Academics/Academic Accreditation/Accreditation/2015 Accreditation/Evidence Of Compliance - Binder/Standard 3 - Teaching & Assessing/Indicator 3.4/5. Lesson Plans and Grade Books.pdf] ==> [VALID]\n",
      "+++ Scanning [/Volumes/Externaldrive/Restored/Data/Academics/Academic Accreditation/Accreditation/2015 Accreditation/Evidence Of Compliance - Binder/Standard 3 - Teaching & Assessing/Indicator 3.4/Indicator 3.4.pdf] ==> [VALID]\n",
      "+++ Scanning [/Volumes/Externaldrive/Restored/Data/Academics/Academic Accreditation/Accreditation/2015 Accreditation/Evidence Of Compliance - Binder/Standard 3 - Teaching & Assessing/Indicator 3.5/1.  Collaborative Learning Committees.pdf] ==> [VALID]\n",
      "+++ Scanning [/Volumes/Externaldrive/Restored/Data/Academics/Academic Accreditation/Accreditation/2015 Accreditation/Evidence Of Compliance - Binder/Standard 3 - Teaching & Assessing/Indicator 3.5/2. Peer Mentors for New Teachers.pdf] ==> [VALID]\n",
      "+++ Scanning [/Volumes/Externaldrive/Restored/Data/Academics/Academic Accreditation/Accreditation/2015 Accreditation/Evidence Of Compliance - Binder/Standard 3 - Teaching & Assessing/Indicator 3.5/3. Aggregated School Surveys-Indicator 3.5.pdf] ==> [VALID]\n",
      "+++ Scanning [/Volumes/Externaldrive/Restored/Data/Academics/Academic Accreditation/Accreditation/2015 Accreditation/Evidence Of Compliance - Binder/Standard 3 - Teaching & Assessing/Indicator 3.5/Indicator 3.5.pdf] ==> [VALID]\n",
      "+++ Scanning [/Volumes/Externaldrive/Restored/Data/Academics/Academic Accreditation/Accreditation/2015 Accreditation/Evidence Of Compliance - Binder/Standard 3 - Teaching & Assessing/Indicator 3.6/1. Using Multiple Measures.pdf] ==> [VALID]\n",
      "+++ Scanning [/Volumes/Externaldrive/Restored/Data/Academics/Academic Accreditation/Accreditation/2015 Accreditation/Evidence Of Compliance - Binder/Standard 3 - Teaching & Assessing/Indicator 3.6/2. Learning Expectations and Standards.pdf] ==> [VALID]\n",
      "+++ Scanning [/Volumes/Externaldrive/Restored/Data/Academics/Academic Accreditation/Accreditation/2015 Accreditation/Evidence Of Compliance - Binder/Standard 3 - Teaching & Assessing/Indicator 3.6/3. Study Skills Helpful Guidelines.pdf] ==> [VALID]\n",
      "+++ Scanning [/Volumes/Externaldrive/Restored/Data/Academics/Academic Accreditation/Accreditation/2015 Accreditation/Evidence Of Compliance - Binder/Standard 3 - Teaching & Assessing/Indicator 3.6/4. Aggregated School Surveys-Indicator 3.6.pdf] ==> [VALID]\n",
      "+++ Scanning [/Volumes/Externaldrive/Restored/Data/Academics/Academic Accreditation/Accreditation/2015 Accreditation/Evidence Of Compliance - Binder/Standard 3 - Teaching & Assessing/Indicator 3.6/Indicator 3.6.pdf] ==> [VALID]\n",
      "+++ Scanning [/Volumes/Externaldrive/Restored/Data/Academics/Academic Accreditation/Accreditation/2015 Accreditation/Evidence Of Compliance - Binder/Standard 3 - Teaching & Assessing/Indicator 3.7/1. Academic Department Manual.pdf] ==> [VALID]\n",
      "+++ Scanning [/Volumes/Externaldrive/Restored/Data/Academics/Academic Accreditation/Accreditation/2015 Accreditation/Evidence Of Compliance - Binder/Standard 3 - Teaching & Assessing/Indicator 3.7/2. Training Logs and New Employee Quizzes.pdf] ==> [VALID]\n",
      "+++ Scanning [/Volumes/Externaldrive/Restored/Data/Academics/Academic Accreditation/Accreditation/2015 Accreditation/Evidence Of Compliance - Binder/Standard 3 - Teaching & Assessing/Indicator 3.7/3. Aggregated School Surveys-Indicator 3.7.pdf] ==> [VALID]\n"
     ]
    },
    {
     "name": "stdout",
     "output_type": "stream",
     "text": [
      "+++ Scanning [/Volumes/Externaldrive/Restored/Data/Academics/Academic Accreditation/Accreditation/2015 Accreditation/Evidence Of Compliance - Binder/Standard 3 - Teaching & Assessing/Indicator 3.7/Indicator 3.7.pdf] ==> [VALID]\n",
      "+++ Scanning [/Volumes/Externaldrive/Restored/Data/Academics/Academic Accreditation/Accreditation/2015 Accreditation/Evidence Of Compliance - Binder/Standard 3 - Teaching & Assessing/Indicator 3.7/Thumbs.db] ==> [NOT SUPPORTED]\n",
      "+++ Scanning [/Volumes/Externaldrive/Restored/Data/Academics/Academic Accreditation/Accreditation/2015 Accreditation/Evidence Of Compliance - Binder/Standard 3 - Teaching & Assessing/Indicator 3.8/1. Schedule of Reporting.pdf] ==> [VALID]\n",
      "+++ Scanning [/Volumes/Externaldrive/Restored/Data/Academics/Academic Accreditation/Accreditation/2015 Accreditation/Evidence Of Compliance - Binder/Standard 3 - Teaching & Assessing/Indicator 3.8/2. Parent Seminars.pdf] ==> [VALID]\n",
      "+++ Scanning [/Volumes/Externaldrive/Restored/Data/Academics/Academic Accreditation/Accreditation/2015 Accreditation/Evidence Of Compliance - Binder/Standard 3 - Teaching & Assessing/Indicator 3.8/3. Visiting.pdf] ==> [VALID]\n",
      "+++ Scanning [/Volumes/Externaldrive/Restored/Data/Academics/Academic Accreditation/Accreditation/2015 Accreditation/Evidence Of Compliance - Binder/Standard 3 - Teaching & Assessing/Indicator 3.8/4. Collecting & Aggregating Parent Feedback.pdf] ==> [VALID]\n",
      "+++ Scanning [/Volumes/Externaldrive/Restored/Data/Academics/Academic Accreditation/Accreditation/2015 Accreditation/Evidence Of Compliance - Binder/Standard 3 - Teaching & Assessing/Indicator 3.8/5. Aggregated School Surveys-Indicator 3.8.pdf] ==> [VALID]\n",
      "+++ Scanning [/Volumes/Externaldrive/Restored/Data/Academics/Academic Accreditation/Accreditation/2015 Accreditation/Evidence Of Compliance - Binder/Standard 3 - Teaching & Assessing/Indicator 3.8/Indicator 3.8.pdf] ==> [VALID]\n",
      "+++ Scanning [/Volumes/Externaldrive/Restored/Data/Academics/Academic Accreditation/Accreditation/2015 Accreditation/Evidence Of Compliance - Binder/Standard 3 - Teaching & Assessing/Indicator 3.9/1.  Adult Advocate Structure.pdf] ==> [VALID]\n",
      "+++ Scanning [/Volumes/Externaldrive/Restored/Data/Academics/Academic Accreditation/Accreditation/2015 Accreditation/Evidence Of Compliance - Binder/Standard 3 - Teaching & Assessing/Indicator 3.9/2. Master Schedule - Teacher Time.pdf] ==> [VALID]\n",
      "+++ Scanning [/Volumes/Externaldrive/Restored/Data/Academics/Academic Accreditation/Accreditation/2015 Accreditation/Evidence Of Compliance - Binder/Standard 3 - Teaching & Assessing/Indicator 3.9/3. Aggregated School Surveys-Indicator 3.9.pdf] ==> [VALID]\n",
      "+++ Scanning [/Volumes/Externaldrive/Restored/Data/Academics/Academic Accreditation/Accreditation/2015 Accreditation/Evidence Of Compliance - Binder/Standard 3 - Teaching & Assessing/Indicator 3.9/Indicator 3.9.pdf] ==> [VALID]\n",
      "+++ Scanning [/Volumes/Externaldrive/Restored/Data/Academics/Academic Accreditation/Accreditation/2015 Accreditation/Evidence Of Compliance - Binder/Standard 3 - Teaching & Assessing/Standard 3.pdf] ==> [VALID]\n",
      "+++ Scanning [/Volumes/Externaldrive/Restored/Data/Academics/Academic Accreditation/Accreditation/2015 Accreditation/Evidence Of Compliance - Binder/Standard 4 - Resources & Support/Indicator 4.1/1. Staffing Plan.pdf] ==> [VALID]\n",
      "+++ Scanning [/Volumes/Externaldrive/Restored/Data/Academics/Academic Accreditation/Accreditation/2015 Accreditation/Evidence Of Compliance - Binder/Standard 4 - Resources & Support/Indicator 4.1/2. Professional Educator's Licenses.pdf] ==> [VALID]\n",
      "+++ Scanning [/Volumes/Externaldrive/Restored/Data/Academics/Academic Accreditation/Accreditation/2015 Accreditation/Evidence Of Compliance - Binder/Standard 4 - Resources & Support/Indicator 4.1/3. Aggregated Student Surveys-Indicator 4.1.pdf] ==> [VALID]\n",
      "+++ Scanning [/Volumes/Externaldrive/Restored/Data/Academics/Academic Accreditation/Accreditation/2015 Accreditation/Evidence Of Compliance - Binder/Standard 4 - Resources & Support/Indicator 4.1/Indicator 4.1.pdf] ==> [VALID]\n",
      "+++ Scanning [/Volumes/Externaldrive/Restored/Data/Academics/Academic Accreditation/Accreditation/2015 Accreditation/Evidence Of Compliance - Binder/Standard 4 - Resources & Support/Indicator 4.2/1. Academic Calendar 2014-2015.pdf] ==> [VALID]\n",
      "+++ Scanning [/Volumes/Externaldrive/Restored/Data/Academics/Academic Accreditation/Accreditation/2015 Accreditation/Evidence Of Compliance - Binder/Standard 4 - Resources & Support/Indicator 4.2/2. Academic Schedule.pdf] ==> [VALID]\n",
      "+++ Scanning [/Volumes/Externaldrive/Restored/Data/Academics/Academic Accreditation/Accreditation/2015 Accreditation/Evidence Of Compliance - Binder/Standard 4 - Resources & Support/Indicator 4.2/3. Teacher Time Off Sub Schedule 11-2014.pdf] ==> [VALID]\n",
      "+++ Scanning [/Volumes/Externaldrive/Restored/Data/Academics/Academic Accreditation/Accreditation/2015 Accreditation/Evidence Of Compliance - Binder/Standard 4 - Resources & Support/Indicator 4.2/4. Books, Proposed-Received.pdf] ==> [VALID]\n",
      "+++ Scanning [/Volumes/Externaldrive/Restored/Data/Academics/Academic Accreditation/Accreditation/2015 Accreditation/Evidence Of Compliance - Binder/Standard 4 - Resources & Support/Indicator 4.2/5. Grade-Course overview 12-31-14.pdf] ==> [VALID]\n",
      "+++ Scanning [/Volumes/Externaldrive/Restored/Data/Academics/Academic Accreditation/Accreditation/2015 Accreditation/Evidence Of Compliance - Binder/Standard 4 - Resources & Support/Indicator 4.2/6. Reading & Math Program Overview.pdf] ==> [VALID]\n",
      "+++ Scanning [/Volumes/Externaldrive/Restored/Data/Academics/Academic Accreditation/Accreditation/2015 Accreditation/Evidence Of Compliance - Binder/Standard 4 - Resources & Support/Indicator 4.2/7. School Improvement Plans & Progress.pdf] ==> [VALID]\n",
      "+++ Scanning [/Volumes/Externaldrive/Restored/Data/Academics/Academic Accreditation/Accreditation/2015 Accreditation/Evidence Of Compliance - Binder/Standard 4 - Resources & Support/Indicator 4.2/8. Aggregated School Surveys-Indicator 4.2.pdf] ==> [VALID]\n",
      "+++ Scanning [/Volumes/Externaldrive/Restored/Data/Academics/Academic Accreditation/Accreditation/2015 Accreditation/Evidence Of Compliance - Binder/Standard 4 - Resources & Support/Indicator 4.2/Indicator 4.2.pdf] ==> [VALID]\n",
      "+++ Scanning [/Volumes/Externaldrive/Restored/Data/Academics/Academic Accreditation/Accreditation/2015 Accreditation/Evidence Of Compliance - Binder/Standard 4 - Resources & Support/Indicator 4.3/1. Utility Systems Management Sample.pdf] ==> [VALID]\n",
      "+++ Scanning [/Volumes/Externaldrive/Restored/Data/Academics/Academic Accreditation/Accreditation/2015 Accreditation/Evidence Of Compliance - Binder/Standard 4 - Resources & Support/Indicator 4.3/2. Emergency Preparedness Manual 112114.pdf] ==> [VALID]\n",
      "+++ Scanning [/Volumes/Externaldrive/Restored/Data/Academics/Academic Accreditation/Accreditation/2015 Accreditation/Evidence Of Compliance - Binder/Standard 4 - Resources & Support/Indicator 4.3/3. Maintenance Repair Request Procedures.pdf] ==> [VALID]\n",
      "+++ Scanning [/Volumes/Externaldrive/Restored/Data/Academics/Academic Accreditation/Accreditation/2015 Accreditation/Evidence Of Compliance - Binder/Standard 4 - Resources & Support/Indicator 4.3/4. Safety Comittee Minutes.pdf] ==> [VALID]\n",
      "+++ Scanning [/Volumes/Externaldrive/Restored/Data/Academics/Academic Accreditation/Accreditation/2015 Accreditation/Evidence Of Compliance - Binder/Standard 4 - Resources & Support/Indicator 4.3/5. Compliance with Local & State Inspections.pdf] ==> [VALID]\n",
      "+++ Scanning [/Volumes/Externaldrive/Restored/Data/Academics/Academic Accreditation/Accreditation/2015 Accreditation/Evidence Of Compliance - Binder/Standard 4 - Resources & Support/Indicator 4.3/6. Aggregated School Surveys-Indicator 4.3.pdf] ==> [VALID]\n",
      "+++ Scanning [/Volumes/Externaldrive/Restored/Data/Academics/Academic Accreditation/Accreditation/2015 Accreditation/Evidence Of Compliance - Binder/Standard 4 - Resources & Support/Indicator 4.3/Indicator 4.3.pdf] ==> [VALID]\n"
     ]
    },
    {
     "name": "stdout",
     "output_type": "stream",
     "text": [
      "+++ Scanning [/Volumes/Externaldrive/Restored/Data/Academics/Academic Accreditation/Accreditation/2015 Accreditation/Evidence Of Compliance - Binder/Standard 4 - Resources & Support/Indicator 4.4/1. Media and Information Resources.pdf] ==> [VALID]\n",
      "+++ Scanning [/Volumes/Externaldrive/Restored/Data/Academics/Academic Accreditation/Accreditation/2015 Accreditation/Evidence Of Compliance - Binder/Standard 4 - Resources & Support/Indicator 4.4/2.  Library Structure and Supervision.pdf] ==> [VALID]\n",
      "+++ Scanning [/Volumes/Externaldrive/Restored/Data/Academics/Academic Accreditation/Accreditation/2015 Accreditation/Evidence Of Compliance - Binder/Standard 4 - Resources & Support/Indicator 4.4/3. Movie and Game Inventory.pdf] ==> [VALID]\n",
      "+++ Scanning [/Volumes/Externaldrive/Restored/Data/Academics/Academic Accreditation/Accreditation/2015 Accreditation/Evidence Of Compliance - Binder/Standard 4 - Resources & Support/Indicator 4.4/4. Academics Video Calendar.pdf] ==> [VALID]\n",
      "+++ Scanning [/Volumes/Externaldrive/Restored/Data/Academics/Academic Accreditation/Accreditation/2015 Accreditation/Evidence Of Compliance - Binder/Standard 4 - Resources & Support/Indicator 4.4/5. Computer Use Log.pdf] ==> [VALID]\n",
      "+++ Scanning [/Volumes/Externaldrive/Restored/Data/Academics/Academic Accreditation/Accreditation/2015 Accreditation/Evidence Of Compliance - Binder/Standard 4 - Resources & Support/Indicator 4.4/6. Aggregated School Surveys-Indicator 4.4.pdf] ==> [VALID]\n",
      "+++ Scanning [/Volumes/Externaldrive/Restored/Data/Academics/Academic Accreditation/Accreditation/2015 Accreditation/Evidence Of Compliance - Binder/Standard 4 - Resources & Support/Indicator 4.4/Indicator 4.4.pdf] ==> [VALID]\n",
      "+++ Scanning [/Volumes/Externaldrive/Restored/Data/Academics/Academic Accreditation/Accreditation/2015 Accreditation/Evidence Of Compliance - Binder/Standard 4 - Resources & Support/Indicator 4.4/Thumbs.db] ==> [NOT SUPPORTED]\n",
      "+++ Scanning [/Volumes/Externaldrive/Restored/Data/Academics/Academic Accreditation/Accreditation/2015 Accreditation/Evidence Of Compliance - Binder/Standard 4 - Resources & Support/Indicator 4.5/1. Technology - SIP.pdf] ==> [VALID]\n",
      "+++ Scanning [/Volumes/Externaldrive/Restored/Data/Academics/Academic Accreditation/Accreditation/2015 Accreditation/Evidence Of Compliance - Binder/Standard 4 - Resources & Support/Indicator 4.5/2. Student Testing on Computer Procedures.pdf] ==> [VALID]\n",
      "+++ Scanning [/Volumes/Externaldrive/Restored/Data/Academics/Academic Accreditation/Accreditation/2015 Accreditation/Evidence Of Compliance - Binder/Standard 4 - Resources & Support/Indicator 4.5/3. Computer- classroom use log.pdf] ==> [VALID]\n",
      "+++ Scanning [/Volumes/Externaldrive/Restored/Data/Academics/Academic Accreditation/Accreditation/2015 Accreditation/Evidence Of Compliance - Binder/Standard 4 - Resources & Support/Indicator 4.5/4. Aggregated School Surveys-Indicator 4.5.pdf] ==> [VALID]\n",
      "+++ Scanning [/Volumes/Externaldrive/Restored/Data/Academics/Academic Accreditation/Accreditation/2015 Accreditation/Evidence Of Compliance - Binder/Standard 4 - Resources & Support/Indicator 4.5/Indicator 4.5.pdf] ==> [VALID]\n",
      "+++ Scanning [/Volumes/Externaldrive/Restored/Data/Academics/Academic Accreditation/Accreditation/2015 Accreditation/Evidence Of Compliance - Binder/Standard 4 - Resources & Support/Indicator 4.6/1. Support Services Available.pdf] ==> [VALID]\n",
      "+++ Scanning [/Volumes/Externaldrive/Restored/Data/Academics/Academic Accreditation/Accreditation/2015 Accreditation/Evidence Of Compliance - Binder/Standard 4 - Resources & Support/Indicator 4.6/2. Student Assessment System.pdf] ==> [VALID]\n",
      "+++ Scanning [/Volumes/Externaldrive/Restored/Data/Academics/Academic Accreditation/Accreditation/2015 Accreditation/Evidence Of Compliance - Binder/Standard 4 - Resources & Support/Indicator 4.6/3. Social and Character Education.pdf] ==> [VALID]\n",
      "+++ Scanning [/Volumes/Externaldrive/Restored/Data/Academics/Academic Accreditation/Accreditation/2015 Accreditation/Evidence Of Compliance - Binder/Standard 4 - Resources & Support/Indicator 4.6/4. Family Services.pdf] ==> [VALID]\n",
      "+++ Scanning [/Volumes/Externaldrive/Restored/Data/Academics/Academic Accreditation/Accreditation/2015 Accreditation/Evidence Of Compliance - Binder/Standard 4 - Resources & Support/Indicator 4.6/5. Aggregated School Surveys-Indicator 4.6.pdf] ==> [VALID]\n",
      "+++ Scanning [/Volumes/Externaldrive/Restored/Data/Academics/Academic Accreditation/Accreditation/2015 Accreditation/Evidence Of Compliance - Binder/Standard 4 - Resources & Support/Indicator 4.6/Indicator 4.6.pdf] ==> [VALID]\n",
      "+++ Scanning [/Volumes/Externaldrive/Restored/Data/Academics/Academic Accreditation/Accreditation/2015 Accreditation/Evidence Of Compliance - Binder/Standard 4 - Resources & Support/Indicator 4.7/1. School Counseling.pdf] ==> [VALID]\n",
      "+++ Scanning [/Volumes/Externaldrive/Restored/Data/Academics/Academic Accreditation/Accreditation/2015 Accreditation/Evidence Of Compliance - Binder/Standard 4 - Resources & Support/Indicator 4.7/10. Letter of recommendation for vocational work.pdf] ==> [VALID]\n",
      "+++ Scanning [/Volumes/Externaldrive/Restored/Data/Academics/Academic Accreditation/Accreditation/2015 Accreditation/Evidence Of Compliance - Binder/Standard 4 - Resources & Support/Indicator 4.7/2. Academic Overview with IEP Process.pdf] ==> [VALID]\n",
      "+++ Scanning [/Volumes/Externaldrive/Restored/Data/Academics/Academic Accreditation/Accreditation/2015 Accreditation/Evidence Of Compliance - Binder/Standard 4 - Resources & Support/Indicator 4.7/3. High School Planning questionnaire.pdf] ==> [VALID]\n",
      "+++ Scanning [/Volumes/Externaldrive/Restored/Data/Academics/Academic Accreditation/Accreditation/2015 Accreditation/Evidence Of Compliance - Binder/Standard 4 - Resources & Support/Indicator 4.7/4. Planning for the Future-Transition.pdf] ==> [VALID]\n",
      "+++ Scanning [/Volumes/Externaldrive/Restored/Data/Academics/Academic Accreditation/Accreditation/2015 Accreditation/Evidence Of Compliance - Binder/Standard 4 - Resources & Support/Indicator 4.7/5. Vocational Assessments.pdf] ==> [VALID]\n",
      "+++ Scanning [/Volumes/Externaldrive/Restored/Data/Academics/Academic Accreditation/Accreditation/2015 Accreditation/Evidence Of Compliance - Binder/Standard 4 - Resources & Support/Indicator 4.7/6. Career Exploration Inventory EZ.pdf] ==> [VALID]\n",
      "+++ Scanning [/Volumes/Externaldrive/Restored/Data/Academics/Academic Accreditation/Accreditation/2015 Accreditation/Evidence Of Compliance - Binder/Standard 4 - Resources & Support/Indicator 4.7/7. Career Exploration Inventory.pdf] ==> [VALID]\n",
      "+++ Scanning [/Volumes/Externaldrive/Restored/Data/Academics/Academic Accreditation/Accreditation/2015 Accreditation/Evidence Of Compliance - Binder/Standard 4 - Resources & Support/Indicator 4.7/8. Comparison Charts - College & Career.pdf] ==> [VALID]\n",
      "+++ Scanning [/Volumes/Externaldrive/Restored/Data/Academics/Academic Accreditation/Accreditation/2015 Accreditation/Evidence Of Compliance - Binder/Standard 4 - Resources & Support/Indicator 4.7/9.  Vocational Training sample.pdf] ==> [VALID]\n",
      "+++ Scanning [/Volumes/Externaldrive/Restored/Data/Academics/Academic Accreditation/Accreditation/2015 Accreditation/Evidence Of Compliance - Binder/Standard 4 - Resources & Support/Indicator 4.7/Indicator 4.7.pdf] ==> [VALID]\n",
      "+++ Scanning [/Volumes/Externaldrive/Restored/Data/Academics/Academic Accreditation/Accreditation/2015 Accreditation/Evidence Of Compliance - Binder/Standard 4 - Resources & Support/Indicator 4.7/Thumbs.db] ==> [NOT SUPPORTED]\n",
      "+++ Scanning [/Volumes/Externaldrive/Restored/Data/Academics/Academic Accreditation/Accreditation/2015 Accreditation/Evidence Of Compliance - Binder/Standard 4 - Resources & Support/Standard 4.pdf] ==> "
     ]
    },
    {
     "ename": "KeyboardInterrupt",
     "evalue": "",
     "output_type": "error",
     "traceback": [
      "\u001b[0;31m---------------------------------------------------------------------------\u001b[0m",
      "\u001b[0;31mKeyboardInterrupt\u001b[0m                         Traceback (most recent call last)",
      "\u001b[0;32m<ipython-input-27-1fc902a18676>\u001b[0m in \u001b[0;36m<module>\u001b[0;34m()\u001b[0m\n\u001b[0;32m----> 1\u001b[0;31m \u001b[0mscan\u001b[0m\u001b[0;34m(\u001b[0m\u001b[0;34m[\u001b[0m\u001b[0;34m\"/Volumes/Externaldrive/Restored\"\u001b[0m\u001b[0;34m]\u001b[0m\u001b[0;34m)\u001b[0m\u001b[0;34m\u001b[0m\u001b[0m\n\u001b[0m",
      "\u001b[0;32m~/github/corrupt-file-scanner/scanners.py\u001b[0m in \u001b[0;36mscan\u001b[0;34m(dirpath, exclude_file, output_file)\u001b[0m\n\u001b[1;32m     77\u001b[0m                 \u001b[0;32mcontinue\u001b[0m\u001b[0;34m\u001b[0m\u001b[0m\n\u001b[1;32m     78\u001b[0m             \u001b[0mfs\u001b[0m \u001b[0;34m=\u001b[0m \u001b[0mfiles_status\u001b[0m\u001b[0;34m.\u001b[0m\u001b[0msetdefault\u001b[0m\u001b[0;34m(\u001b[0m\u001b[0mfc\u001b[0m\u001b[0;34m.\u001b[0m\u001b[0mname\u001b[0m\u001b[0;34m,\u001b[0m \u001b[0;34m[\u001b[0m\u001b[0;36m0\u001b[0m\u001b[0;34m,\u001b[0m \u001b[0;36m0\u001b[0m\u001b[0;34m]\u001b[0m\u001b[0;34m)\u001b[0m\u001b[0;34m\u001b[0m\u001b[0m\n\u001b[0;32m---> 79\u001b[0;31m             \u001b[0;32mif\u001b[0m \u001b[0mfc\u001b[0m\u001b[0;34m.\u001b[0m\u001b[0mis_valid\u001b[0m\u001b[0;34m(\u001b[0m\u001b[0;34m)\u001b[0m\u001b[0;34m:\u001b[0m\u001b[0;34m\u001b[0m\u001b[0m\n\u001b[0m\u001b[1;32m     80\u001b[0m                 \u001b[0mfs\u001b[0m\u001b[0;34m[\u001b[0m\u001b[0;36m0\u001b[0m\u001b[0;34m]\u001b[0m \u001b[0;34m+=\u001b[0m \u001b[0;36m1\u001b[0m\u001b[0;34m\u001b[0m\u001b[0m\n\u001b[1;32m     81\u001b[0m                 \u001b[0mprint_v\u001b[0m\u001b[0;34m(\u001b[0m\u001b[0;34m'[VALID]'\u001b[0m\u001b[0;34m)\u001b[0m\u001b[0;34m\u001b[0m\u001b[0m\n",
      "\u001b[0;32m~/github/corrupt-file-scanner/corrupt_checker.py\u001b[0m in \u001b[0;36mis_valid\u001b[0;34m(self, **kwargs)\u001b[0m\n\u001b[1;32m     48\u001b[0m     \u001b[0;32mdef\u001b[0m \u001b[0mis_valid\u001b[0m\u001b[0;34m(\u001b[0m\u001b[0mself\u001b[0m\u001b[0;34m,\u001b[0m \u001b[0;34m**\u001b[0m\u001b[0mkwargs\u001b[0m\u001b[0;34m)\u001b[0m\u001b[0;34m:\u001b[0m\u001b[0;34m\u001b[0m\u001b[0m\n\u001b[1;32m     49\u001b[0m         \u001b[0mcheck_handler\u001b[0m \u001b[0;34m=\u001b[0m \u001b[0mself\u001b[0m\u001b[0;34m.\u001b[0m\u001b[0mhandlers\u001b[0m\u001b[0;34m[\u001b[0m\u001b[0mself\u001b[0m\u001b[0;34m.\u001b[0m\u001b[0mformat\u001b[0m\u001b[0;34m]\u001b[0m\u001b[0;34m[\u001b[0m\u001b[0;34m'func'\u001b[0m\u001b[0;34m]\u001b[0m\u001b[0;34m\u001b[0m\u001b[0m\n\u001b[0;32m---> 50\u001b[0;31m         \u001b[0;32mreturn\u001b[0m \u001b[0mcheck_handler\u001b[0m\u001b[0;34m(\u001b[0m\u001b[0mself\u001b[0m\u001b[0;34m.\u001b[0m\u001b[0mfilepath\u001b[0m\u001b[0;34m,\u001b[0m \u001b[0;34m**\u001b[0m\u001b[0mkwargs\u001b[0m\u001b[0;34m)\u001b[0m\u001b[0;34m\u001b[0m\u001b[0m\n\u001b[0m\u001b[1;32m     51\u001b[0m \u001b[0;34m\u001b[0m\u001b[0m\n\u001b[1;32m     52\u001b[0m     \u001b[0;32mdef\u001b[0m \u001b[0m__str__\u001b[0m\u001b[0;34m(\u001b[0m\u001b[0mself\u001b[0m\u001b[0;34m)\u001b[0m\u001b[0;34m:\u001b[0m\u001b[0;34m\u001b[0m\u001b[0m\n",
      "\u001b[0;32m~/github/corrupt-file-scanner/corrupt_checker.py\u001b[0m in \u001b[0;36mpdf_check\u001b[0;34m(filepath, **kwargs)\u001b[0m\n\u001b[1;32m     76\u001b[0m     \u001b[0;32mtry\u001b[0m\u001b[0;34m:\u001b[0m\u001b[0;34m\u001b[0m\u001b[0m\n\u001b[1;32m     77\u001b[0m         \u001b[0;32mwith\u001b[0m \u001b[0mopen\u001b[0m\u001b[0;34m(\u001b[0m\u001b[0mfilepath\u001b[0m\u001b[0;34m,\u001b[0m \u001b[0;34m'rb'\u001b[0m\u001b[0;34m)\u001b[0m \u001b[0;32mas\u001b[0m \u001b[0mf\u001b[0m\u001b[0;34m:\u001b[0m\u001b[0;34m\u001b[0m\u001b[0m\n\u001b[0;32m---> 78\u001b[0;31m             \u001b[0mPdfFileReader\u001b[0m\u001b[0;34m(\u001b[0m\u001b[0mf\u001b[0m\u001b[0;34m)\u001b[0m\u001b[0;34m\u001b[0m\u001b[0m\n\u001b[0m\u001b[1;32m     79\u001b[0m     \u001b[0;32mexcept\u001b[0m \u001b[0;34m(\u001b[0m\u001b[0mPdfReadError\u001b[0m\u001b[0;34m,\u001b[0m \u001b[0mTypeError\u001b[0m\u001b[0;34m)\u001b[0m\u001b[0;34m:\u001b[0m\u001b[0;34m\u001b[0m\u001b[0m\n\u001b[1;32m     80\u001b[0m         \u001b[0;32mreturn\u001b[0m \u001b[0;32mFalse\u001b[0m\u001b[0;34m\u001b[0m\u001b[0m\n",
      "\u001b[0;32m~/anaconda/envs/py36/lib/python3.6/site-packages/PyPDF2/pdf.py\u001b[0m in \u001b[0;36m__init__\u001b[0;34m(self, stream, strict, warndest, overwriteWarnings)\u001b[0m\n\u001b[1;32m   1082\u001b[0m             \u001b[0mstream\u001b[0m \u001b[0;34m=\u001b[0m \u001b[0mBytesIO\u001b[0m\u001b[0;34m(\u001b[0m\u001b[0mb_\u001b[0m\u001b[0;34m(\u001b[0m\u001b[0mfileobj\u001b[0m\u001b[0;34m.\u001b[0m\u001b[0mread\u001b[0m\u001b[0;34m(\u001b[0m\u001b[0;34m)\u001b[0m\u001b[0;34m)\u001b[0m\u001b[0;34m)\u001b[0m\u001b[0;34m\u001b[0m\u001b[0m\n\u001b[1;32m   1083\u001b[0m             \u001b[0mfileobj\u001b[0m\u001b[0;34m.\u001b[0m\u001b[0mclose\u001b[0m\u001b[0;34m(\u001b[0m\u001b[0;34m)\u001b[0m\u001b[0;34m\u001b[0m\u001b[0m\n\u001b[0;32m-> 1084\u001b[0;31m         \u001b[0mself\u001b[0m\u001b[0;34m.\u001b[0m\u001b[0mread\u001b[0m\u001b[0;34m(\u001b[0m\u001b[0mstream\u001b[0m\u001b[0;34m)\u001b[0m\u001b[0;34m\u001b[0m\u001b[0m\n\u001b[0m\u001b[1;32m   1085\u001b[0m         \u001b[0mself\u001b[0m\u001b[0;34m.\u001b[0m\u001b[0mstream\u001b[0m \u001b[0;34m=\u001b[0m \u001b[0mstream\u001b[0m\u001b[0;34m\u001b[0m\u001b[0m\n\u001b[1;32m   1086\u001b[0m \u001b[0;34m\u001b[0m\u001b[0m\n",
      "\u001b[0;32m~/anaconda/envs/py36/lib/python3.6/site-packages/PyPDF2/pdf.py\u001b[0m in \u001b[0;36mread\u001b[0;34m(self, stream)\u001b[0m\n\u001b[1;32m   1720\u001b[0m             \u001b[0;31m# load the xref table\u001b[0m\u001b[0;34m\u001b[0m\u001b[0;34m\u001b[0m\u001b[0m\n\u001b[1;32m   1721\u001b[0m             \u001b[0mstream\u001b[0m\u001b[0;34m.\u001b[0m\u001b[0mseek\u001b[0m\u001b[0;34m(\u001b[0m\u001b[0mstartxref\u001b[0m\u001b[0;34m,\u001b[0m \u001b[0;36m0\u001b[0m\u001b[0;34m)\u001b[0m\u001b[0;34m\u001b[0m\u001b[0m\n\u001b[0;32m-> 1722\u001b[0;31m             \u001b[0mx\u001b[0m \u001b[0;34m=\u001b[0m \u001b[0mstream\u001b[0m\u001b[0;34m.\u001b[0m\u001b[0mread\u001b[0m\u001b[0;34m(\u001b[0m\u001b[0;36m1\u001b[0m\u001b[0;34m)\u001b[0m\u001b[0;34m\u001b[0m\u001b[0m\n\u001b[0m\u001b[1;32m   1723\u001b[0m             \u001b[0;32mif\u001b[0m \u001b[0mx\u001b[0m \u001b[0;34m==\u001b[0m \u001b[0mb_\u001b[0m\u001b[0;34m(\u001b[0m\u001b[0;34m\"x\"\u001b[0m\u001b[0;34m)\u001b[0m\u001b[0;34m:\u001b[0m\u001b[0;34m\u001b[0m\u001b[0m\n\u001b[1;32m   1724\u001b[0m                 \u001b[0;31m# standard cross-reference table\u001b[0m\u001b[0;34m\u001b[0m\u001b[0;34m\u001b[0m\u001b[0m\n",
      "\u001b[0;31mKeyboardInterrupt\u001b[0m: "
     ]
    }
   ],
   "source": [
    "scan([\"/Volumes/Externaldrive/Restored\"])"
   ]
  },
  {
   "cell_type": "code",
   "execution_count": 17,
   "metadata": {},
   "outputs": [
    {
     "name": "stdout",
     "output_type": "stream",
     "text": [
      "LICENSE               corrupt_checker.py    requirements.txt\r\n",
      "README.md             examples.ipynb        scanners.py\r\n",
      "\u001b[34m__pycache__\u001b[m\u001b[m/          excludes_example.txt\r\n"
     ]
    }
   ],
   "source": [
    "ls"
   ]
  },
  {
   "cell_type": "code",
   "execution_count": 18,
   "metadata": {},
   "outputs": [
    {
     "name": "stdout",
     "output_type": "stream",
     "text": [
      "\u001b[31m01-Last Name (A-B) 2017.xlsx\u001b[m\u001b[m*     \u001b[31mKintano, Louis - MTP.xlsx\u001b[m\u001b[m*\r\n",
      "\u001b[31m02-Last Name (C-D) 2017.xlsx\u001b[m\u001b[m*     \u001b[31mLeimas, Ariah - MTP.xlsx\u001b[m\u001b[m*\r\n",
      "\u001b[31m03-Last Name (E-F-G-H) 2017.xlsx\u001b[m\u001b[m* \u001b[31mLong, Dillion - MTP.xlsx\u001b[m\u001b[m*\r\n",
      "\u001b[31m05-Last Name (M-N-O) 2017.xlsx\u001b[m\u001b[m*   \u001b[31mLua, Oscar - MTP.xlsx\u001b[m\u001b[m*\r\n",
      "\u001b[34mAdmin-Archive\u001b[m\u001b[m/                    \u001b[31mMedical and Dental Tracking.xlsx\u001b[m\u001b[m*\r\n",
      "\u001b[31mAndrade, Anthony - MTP.xlsx\u001b[m\u001b[m*      \u001b[31mParraga, Anthony - MTP.xlsx\u001b[m\u001b[m*\r\n",
      "\u001b[31mConnell, Shawn - MTP.xlsx\u001b[m\u001b[m*        \u001b[31mPolkinghorne, Troy - MTP.xlsx\u001b[m\u001b[m*\r\n",
      "\u001b[34mData\u001b[m\u001b[m/                             \u001b[34mRoamingProfiles\u001b[m\u001b[m/\r\n",
      "\u001b[34mFax-Archives\u001b[m\u001b[m/                     \u001b[31mWard, Tiajae - MTP.xlsx\u001b[m\u001b[m*\r\n",
      "\u001b[34mIRL\u001b[m\u001b[m/\r\n"
     ]
    }
   ],
   "source": [
    "ls /Volumes/Externaldrive/Restored"
   ]
  },
  {
   "cell_type": "code",
   "execution_count": 23,
   "metadata": {},
   "outputs": [
    {
     "name": "stdout",
     "output_type": "stream",
     "text": [
      "nope\n"
     ]
    }
   ],
   "source": [
    "if not []:\n",
    "    print('nope')"
   ]
  },
  {
   "cell_type": "code",
   "execution_count": null,
   "metadata": {
    "collapsed": true
   },
   "outputs": [],
   "source": []
  }
 ],
 "metadata": {
  "kernelspec": {
   "display_name": "Python 3",
   "language": "python",
   "name": "python3"
  },
  "language_info": {
   "codemirror_mode": {
    "name": "ipython",
    "version": 3
   },
   "file_extension": ".py",
   "mimetype": "text/x-python",
   "name": "python",
   "nbconvert_exporter": "python",
   "pygments_lexer": "ipython3",
   "version": "3.6.1"
  }
 },
 "nbformat": 4,
 "nbformat_minor": 1
}
